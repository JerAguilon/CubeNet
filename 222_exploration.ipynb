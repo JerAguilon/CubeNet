{
 "cells": [
  {
   "cell_type": "code",
   "execution_count": 23,
   "metadata": {},
   "outputs": [],
   "source": [
    "from MagicCube.cube import Cube\n",
    "from pyTwistyScrambler import scrambler222"
   ]
  },
  {
   "cell_type": "code",
   "execution_count": 3,
   "metadata": {},
   "outputs": [],
   "source": [
    "c = Cube(2)"
   ]
  },
  {
   "cell_type": "code",
   "execution_count": 4,
   "metadata": {},
   "outputs": [
    {
     "name": "stdout",
     "output_type": "stream",
     "text": [
      "moved F 0 1\n",
      "moved R 0 1\n"
     ]
    }
   ],
   "source": [
    "c.move('F', 0, 1) # 'F'\n",
    "c.move('R', 0, 1) # 'R'"
   ]
  },
  {
   "cell_type": "code",
   "execution_count": 5,
   "metadata": {},
   "outputs": [
    {
     "data": {
      "image/png": "[encoded data removed]",
      "text/plain": [
       "<matplotlib.figure.Figure at 0x7f6850d0bba8>"
      ]
     },
     "execution_count": 5,
     "metadata": {},
     "output_type": "execute_result"
    },
    {
     "data": {
      "image/png": "[encoded data removed]",
      "text/plain": [
       "<matplotlib.figure.Figure at 0x7f6850d0bba8>"
      ]
     },
     "metadata": {},
     "output_type": "display_data"
    }
   ],
   "source": [
    "c.render()"
   ]
  },
  {
   "cell_type": "code",
   "execution_count": 6,
   "metadata": {},
   "outputs": [
    {
     "data": {
      "text/plain": [
       "{'b': 2, 'g': 3, 'o': 4, 'r': 5, 'w': 0, 'y': 1}"
      ]
     },
     "execution_count": 6,
     "metadata": {},
     "output_type": "execute_result"
    }
   ],
   "source": [
    "c.colordict"
   ]
  },
  {
   "cell_type": "code",
   "execution_count": 19,
   "metadata": {},
   "outputs": [
    {
     "data": {
      "text/plain": [
       "'Color Dict:'"
      ]
     },
     "metadata": {},
     "output_type": "display_data"
    },
    {
     "data": {
      "text/plain": [
       "[('w', 0), ('y', 1), ('b', 2), ('g', 3), ('o', 4), ('r', 5)]"
      ]
     },
     "metadata": {},
     "output_type": "display_data"
    },
    {
     "data": {
      "text/plain": [
       "'Face Dict'"
      ]
     },
     "metadata": {},
     "output_type": "display_data"
    },
    {
     "data": {
      "text/plain": [
       "[('U', 0), ('D', 1), ('F', 2), ('B', 3), ('R', 4), ('L', 5)]"
      ]
     },
     "metadata": {},
     "output_type": "display_data"
    },
    {
     "data": {
      "text/plain": [
       "'Sticker State'"
      ]
     },
     "metadata": {},
     "output_type": "display_data"
    },
    {
     "data": {
      "text/plain": [
       "array([[[5, 0],\n",
       "        [2, 2]],\n",
       "\n",
       "       [[1, 4],\n",
       "        [3, 3]],\n",
       "\n",
       "       [[2, 2],\n",
       "        [1, 4]],\n",
       "\n",
       "       [[0, 5],\n",
       "        [3, 3]],\n",
       "\n",
       "       [[4, 0],\n",
       "        [4, 0]],\n",
       "\n",
       "       [[5, 5],\n",
       "        [1, 1]]])"
      ]
     },
     "metadata": {},
     "output_type": "display_data"
    }
   ],
   "source": [
    "display(\"Color Dict:\", [ (key, value) for (key, value) in sorted( c.colordict.items(), key=lambda x: x[1] )])\n",
    "display(\"Face Dict\", [ (key, value) for (key, value) in sorted( c.facedict.items(), key=lambda x: x[1] ) ])\n",
    "display(\"Sticker State\", c.stickers)"
   ]
  },
  {
   "cell_type": "markdown",
   "metadata": {},
   "source": [
    "Here we identify all the piece locations on the face dict."
   ]
  },
  {
   "cell_type": "code",
   "execution_count": 21,
   "metadata": {},
   "outputs": [],
   "source": [
    "front_left_top =   [ [2, 0, 1], [5, 1, 1], [0, 0, 0] ]\n",
    "front_right_top =  [ [2, 1, 1], [4, 0, 1], [0, 1, 0] ]\n",
    "front_left_down =  [ [2, 0, 0], [5, 1, 0], [1, 0, 1] ]\n",
    "front_right_down = [ [2, 1, 0], [4, 0, 0], [1, 1, 1] ]\n",
    "back_left_top =    [ [3, 1, 1], [5, 0, 1], [0, 0, 1] ]\n",
    "back_right_top =   [ [3, 0, 1], [4, 1, 1], [0, 1, 1] ]\n",
    "back_left_down =   [ [3, 1, 0], [5, 0, 0], [1, 0, 0] ]\n",
    "back_right_down =  [ [3, 0, 0], [4, 1, 0], [1, 1, 0] ]"
   ]
  },
  {
   "cell_type": "code",
   "execution_count": 24,
   "metadata": {},
   "outputs": [],
   "source": [
    "def get_scramble(n=2):\n",
    "    if n == 2:\n",
    "        return scrambler222.get_optimal_scramble().split(' ')\n",
    "    raise ValueError(\"Unsupported cube size\")"
   ]
  },
  {
   "cell_type": "code",
   "execution_count": null,
   "metadata": {},
   "outputs": [],
   "source": []
  }
 ],
 "metadata": {
  "kernelspec": {
   "display_name": "Python 3",
   "language": "python",
   "name": "python3"
  },
  "language_info": {
   "codemirror_mode": {
    "name": "ipython",
    "version": 3
   },
   "file_extension": ".py",
   "mimetype": "text/x-python",
   "name": "python",
   "nbconvert_exporter": "python",
   "pygments_lexer": "ipython3",
   "version": "3.6.8"
  }
 },
 "nbformat": 4,
 "nbformat_minor": 2
}
