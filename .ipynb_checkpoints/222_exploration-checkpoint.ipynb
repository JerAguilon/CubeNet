{
 "cells": [
  {
   "cell_type": "code",
   "execution_count": 1,
   "metadata": {
    "scrolled": false
   },
   "outputs": [],
   "source": [
    "from MagicCube.cube import Cube\n",
    "from pyTwistyScrambler import scrambler222\n",
    "from enum import Enum\n",
    "\n",
    "from sklearn.preprocessing import LabelEncoder\n",
    "from sklearn.preprocessing import OneHotEncoder\n",
    "\n",
    "import numpy as np\n",
    "import pandas as pd"
   ]
  },
  {
   "cell_type": "code",
   "execution_count": null,
   "metadata": {},
   "outputs": [],
   "source": [
    "c = Cube(2)"
   ]
  },
  {
   "cell_type": "code",
   "execution_count": null,
   "metadata": {},
   "outputs": [],
   "source": [
    "c.move('F', 0, 1) # 'F'\n",
    "c.move('R', 0, 1) # 'R'"
   ]
  },
  {
   "cell_type": "code",
   "execution_count": null,
   "metadata": {},
   "outputs": [],
   "source": [
    "c.render()"
   ]
  },
  {
   "cell_type": "code",
   "execution_count": null,
   "metadata": {},
   "outputs": [],
   "source": [
    "c.colordict"
   ]
  },
  {
   "cell_type": "code",
   "execution_count": null,
   "metadata": {},
   "outputs": [],
   "source": [
    "display(\"Color Dict:\", [ (key, value) for (key, value) in sorted( c.colordict.items(), key=lambda x: x[1] )])\n",
    "display(\"Face Dict\", [ (key, value) for (key, value) in sorted( c.facedict.items(), key=lambda x: x[1] ) ])\n",
    "display(\"Sticker State\", c.stickers)"
   ]
  },
  {
   "cell_type": "markdown",
   "metadata": {},
   "source": [
    "Here we identify all the piece locations on the face dict."
   ]
  },
  {
   "cell_type": "code",
   "execution_count": null,
   "metadata": {},
   "outputs": [],
   "source": [
    "front_left_top =   [ [2, 0, 1], [5, 1, 1], [0, 0, 0] ]\n",
    "front_right_top =  [ [2, 1, 1], [4, 0, 1], [0, 1, 0] ]\n",
    "front_left_down =  [ [2, 0, 0], [5, 1, 0], [1, 0, 1] ]\n",
    "front_right_down = [ [2, 1, 0], [4, 0, 0], [1, 1, 1] ]\n",
    "back_left_top =    [ [3, 1, 1], [5, 0, 1], [0, 0, 1] ]\n",
    "back_right_top =   [ [3, 0, 1], [4, 1, 1], [0, 1, 1] ]\n",
    "back_left_down =   [ [3, 1, 0], [5, 0, 0], [1, 0, 0] ]\n",
    "back_right_down =  [ [3, 0, 0], [4, 1, 0], [1, 1, 0] ]\n",
    "\n",
    "all_pieces = [\n",
    "    front_left_top,\n",
    "    front_right_top,\n",
    "    front_left_down,\n",
    "    front_right_down,\n",
    "    back_left_top,\n",
    "    back_right_top,\n",
    "    back_left_down,\n",
    "    back_right_down,\n",
    "]"
   ]
  },
  {
   "cell_type": "code",
   "execution_count": null,
   "metadata": {},
   "outputs": [],
   "source": [
    "display(\"Color Dict:\", [ (key, value) for (key, value) in sorted( c.colordict.items(), key=lambda x: x[1] )])"
   ]
  },
  {
   "cell_type": "code",
   "execution_count": null,
   "metadata": {},
   "outputs": [],
   "source": [
    "class PieceColors(Enum):\n",
    "    WHITE_BLUE_RED=0\n",
    "    WHITE_BLUE_ORANGE=1\n",
    "    WHITE_GREEN_RED=2\n",
    "    WHITE_GREEN_ORANGE=3\n",
    "    YELLOW_BLUE_RED=4\n",
    "    YELLOW_BLUE_ORANGE=5\n",
    "    YELLOW_GREEN_RED=6\n",
    "    YELLOW_GREEN_ORANGE=7\n",
    "\n",
    "piece_color_mapping = {\n",
    "    (0, 2, 5): PieceColors.WHITE_BLUE_RED,\n",
    "    (0, 2, 4): PieceColors.WHITE_BLUE_ORANGE,\n",
    "    (0, 3, 5): PieceColors.WHITE_GREEN_RED,\n",
    "    (0, 3, 4): PieceColors.WHITE_GREEN_ORANGE,\n",
    "    (1, 2, 5): PieceColors.YELLOW_BLUE_RED,\n",
    "    (1, 2, 4): PieceColors.YELLOW_BLUE_ORANGE,\n",
    "    (1, 3, 5): PieceColors.YELLOW_GREEN_RED,\n",
    "    (1, 3, 4): PieceColors.YELLOW_GREEN_ORANGE\n",
    "}\n",
    "    \n",
    "def get_scramble(n=2):\n",
    "    if n == 2:\n",
    "        return scrambler222.get_optimal_scramble().split(' ')\n",
    "    raise ValueError(\"Unsupported cube size\")\n",
    "\n",
    "    \n",
    "def get_block_colors(colors):\n",
    "    colors = tuple(sorted(list(colors)))\n",
    "    return piece_color_mapping[colors]"
   ]
  },
  {
   "cell_type": "code",
   "execution_count": null,
   "metadata": {},
   "outputs": [],
   "source": [
    "num_classes = 12\n",
    "one_hot = np.identity(12)\n",
    "move_mapping = dict(\n",
    "    [(move, i) for i, move in enumerate(\n",
    "        [\"F\" , \"F'\", \"B\", \"B'\", \"L\", \"L'\", \"R\", \"R'\", \"U\", \"U'\", \"D\", \"D'\"]\n",
    "    )]\n",
    ")\n",
    "move_mapping"
   ]
  },
  {
   "cell_type": "code",
   "execution_count": null,
   "metadata": {},
   "outputs": [],
   "source": [
    "def convert_move(m):\n",
    "    return {\n",
    "        \"F\" : ('F', 0, 1),\n",
    "        \"F'\" : ('F', 0, -1),\n",
    "        \"F2\": ('F', 0, 2),\n",
    "        \"B\" : ('B', 0, 1),\n",
    "        \"B'\": ('B', 0, -1),\n",
    "        \"B2\": ('B', 0, 2),\n",
    "        \"L\": ('L', 0, 1),\n",
    "        \"L'\": ('L', 0, -1),\n",
    "        \"L2\": ('L', 0, 2),\n",
    "        \"R\": ('R', 0, 1),\n",
    "        \"R'\": ('R', 0, -1),\n",
    "        \"R2\": ('R', 0, 2),\n",
    "        \"U\": ('U', 0, 1),\n",
    "        \"U'\": ('U', 0, -1),\n",
    "        \"U2\": ('U', 0, 2),\n",
    "        \"D\": ('D', 0, 1),\n",
    "        \"D'\": ('D', 0, -1),\n",
    "        \"D2\": ('D', 0, 2),\n",
    "    }[m]\n",
    "\n",
    "def counter_move(m):\n",
    "    return {\n",
    "        \"F\": \"F'\",\n",
    "        \"F'\": \"F\",\n",
    "        \"B'\": \"B'\",\n",
    "        \"B\": \"B\",\n",
    "        \"R\": \"R'\",\n",
    "        \"R'\": \"R\",\n",
    "        \"L\": \"L'\",\n",
    "        \"L'\": \"L\",\n",
    "        \"U\": \"U'\",\n",
    "        \"U'\": \"U\",\n",
    "        \"D\": \"D'\",\n",
    "        \"D'\": \"D\",\n",
    "    }[m]\n",
    "    \n",
    "def generate_case(moves=10):\n",
    "    if moves > 10:\n",
    "        raise ValueError(\"Only up to 10 moves supported\")\n",
    "    scramble = get_scramble()[0:moves]\n",
    "    no_double_turns = []\n",
    "    for s in scramble:\n",
    "        if s[-1] == '2':\n",
    "            no_double_turns.append(s[:-1])\n",
    "            no_double_turns.append(s[:-1])\n",
    "        else:\n",
    "            no_double_turns.append(s)\n",
    "    no_double_turns = no_double_turns[0:moves]\n",
    "    undo_scramble = [counter_move(m) for m in reversed(no_double_turns)]\n",
    "    return no_double_turns, undo_scramble\n",
    "\n",
    "def unfold_case(scramble, undo_scramble):\n",
    "    c = Cube(2)\n",
    "    n = len(scramble)\n",
    "    X_stickers = np.zeros( (n, 12, 2, 1) )\n",
    "    X_pieces = np.zeros((n, 8))\n",
    "    y = np.zeros(n)\n",
    "    for i in range(n):\n",
    "        c.move(*convert_move(scramble[i]))\n",
    "        solution = undo_scramble[i]\n",
    "        stickers = c.stickers.copy()\n",
    "        state = np.asarray(stickers).reshape(12, 2, 1)\n",
    "        X_stickers[i] = state\n",
    "        for j, piece in enumerate(all_pieces):\n",
    "            piece_stickers = []\n",
    "            for sticker_pos in piece:\n",
    "                sticker_color = stickers[\n",
    "                    sticker_pos[0], sticker_pos[1], sticker_pos[2]\n",
    "                ]\n",
    "                piece_stickers.append(sticker_color)\n",
    "            X_pieces[i][j] = get_block_colors(piece_stickers).value\n",
    "        y[i] = move_mapping[solution]\n",
    "    return X_stickers, X_pieces, y\n",
    "\n",
    "\n",
    "def data_generator(solves=5000):\n",
    "    stickers = []\n",
    "    pieces = []\n",
    "    solutions = []\n",
    "    for i in range(solves):\n",
    "        if i % 100 == 0:\n",
    "            print(f'{i}/{solves} completed')\n",
    "        scramble, reverse = generate_case(moves=10)\n",
    "        s, p, y = unfold_case(scramble, reverse)\n",
    "        stickers.append(s)\n",
    "        pieces.append(p)\n",
    "        solutions.append(y)\n",
    "    stickers = np.concatenate(stickers, axis=0)\n",
    "    pieces = np.concatenate(pieces, axis=0)\n",
    "    solutions = np.concatenate(solutions, axis=0)\n",
    "    return stickers, pieces, solutions\n"
   ]
  },
  {
   "cell_type": "code",
   "execution_count": null,
   "metadata": {
    "scrolled": false
   },
   "outputs": [],
   "source": [
    "stickers, pieces, solutions = data_generator(solves=50000)"
   ]
  },
  {
   "cell_type": "code",
   "execution_count": 2,
   "metadata": {},
   "outputs": [],
   "source": [
    "SAVE_STICKERS = \"data/train_stickers.npy\"\n",
    "SAVE_PIECES = \"data/train_pieces.npy\"\n",
    "SAVE_SOLUTIONS = \"data/train_solutions.npy\""
   ]
  },
  {
   "cell_type": "code",
   "execution_count": null,
   "metadata": {},
   "outputs": [],
   "source": [
    "np.save(SAVE_STICKERS, stickers)\n",
    "np.save(SAVE_PIECES, pieces)\n",
    "np.save(SAVE_SOLUTIONS, solutions)"
   ]
  },
  {
   "cell_type": "markdown",
   "metadata": {},
   "source": [
    "# Create training and validation sets"
   ]
  },
  {
   "cell_type": "code",
   "execution_count": 3,
   "metadata": {},
   "outputs": [],
   "source": [
    "from torch.utils.data import Dataset, DataLoader"
   ]
  },
  {
   "cell_type": "code",
   "execution_count": 4,
   "metadata": {},
   "outputs": [],
   "source": [
    "# Attempting to add piece information to the dataset as well\n",
    "class CubeDataset(Dataset):\n",
    "    def __init__(self, stickers, solutions):\n",
    "        self.y = solutions.astype(np.int64)\n",
    "        self.stickers = stickers.swapaxes(1, 3).astype(np.float64)\n",
    "        self.n = stickers.shape[0]\n",
    "    def __len__(self):\n",
    "        return self.n\n",
    "    def __getitem__(self, idx):\n",
    "        return (self.stickers[idx], self.y[idx])\n",
    "    \n",
    "    def _build_pieces(self, pieces):\n",
    "        #TODO: vectorize this\n",
    "        num_pieces = 8\n",
    "        output = np.zeros( pieces.shape )\n",
    "        for i, example in enumerate(pieces):\n",
    "            new_example = np.zeros( cube_position )\n",
    "            for cubit_position, encoded_color in enumerate(example):\n",
    "                # encoded color ranges from [0, 7]\n",
    "                new_example[encoded_color] = cube_position\n",
    "            output[i] = new_example\n",
    "        return output\n"
   ]
  },
  {
   "cell_type": "code",
   "execution_count": 5,
   "metadata": {},
   "outputs": [],
   "source": [
    "def unison_shuffle(*data):\n",
    "    assert all(\n",
    "        [len(data[i]) == len(data[i+1]) for i in range(len(data) - 1)]\n",
    "    )\n",
    "    size = len(data[0])\n",
    "    p = np.random.permutation(size)\n",
    "    return tuple([d[p] for d in data])"
   ]
  },
  {
   "cell_type": "code",
   "execution_count": 6,
   "metadata": {},
   "outputs": [],
   "source": [
    "train_stickers = np.load(SAVE_STICKERS)\n",
    "train_pieces = np.load(SAVE_PIECES)\n",
    "train_solutions = np.load(SAVE_SOLUTIONS)"
   ]
  },
  {
   "cell_type": "markdown",
   "metadata": {},
   "source": [
    "Note: perhaps we should avoid shuffling the data to prevent the network from seeing parts of solves in the validation set?"
   ]
  },
  {
   "cell_type": "code",
   "execution_count": null,
   "metadata": {},
   "outputs": [],
   "source": [
    "train_stickers, train_pieces, train_solutions = \\\n",
    "    unison_shuffle(train_stickers, train_pieces, train_solution)"
   ]
  },
  {
   "cell_type": "code",
   "execution_count": 9,
   "metadata": {
    "scrolled": true
   },
   "outputs": [
    {
     "data": {
      "text/plain": [
       "((49243, 12, 2, 1), (49243, 8), (49243,))"
      ]
     },
     "execution_count": 9,
     "metadata": {},
     "output_type": "execute_result"
    }
   ],
   "source": [
    "train_stickers.shape, train_pieces.shape, train_solutions.shape"
   ]
  },
  {
   "cell_type": "code",
   "execution_count": 12,
   "metadata": {},
   "outputs": [],
   "source": [
    "size_dataset = len(train_solutions)\n",
    "\n",
    "size_validation = int(size_dataset * .2)"
   ]
  },
  {
   "cell_type": "code",
   "execution_count": 14,
   "metadata": {},
   "outputs": [],
   "source": [
    "train_X = train_stickers[:size_dataset-size_validation]\n",
    "train_y = train_solutions[:size_dataset-size_validation]\n",
    "\n",
    "validation_X = train_stickers[-size_validation:]\n",
    "validation_y = train_solutions[-size_validation:]"
   ]
  },
  {
   "cell_type": "code",
   "execution_count": 15,
   "metadata": {},
   "outputs": [],
   "source": [
    "train_dataset = CubeDataset(train_X, train_y)\n",
    "val_dataset = CubeDataset(validation_X, validation_y)"
   ]
  },
  {
   "cell_type": "markdown",
   "metadata": {},
   "source": [
    "# Creating a Deep Learning architecture"
   ]
  },
  {
   "cell_type": "code",
   "execution_count": 18,
   "metadata": {},
   "outputs": [],
   "source": [
    "import torch\n",
    "import torch.nn as nn\n",
    "import torch.nn.functional as F\n",
    "\n",
    "from torch.utils.data import Dataset, DataLoader"
   ]
  },
  {
   "cell_type": "code",
   "execution_count": 19,
   "metadata": {},
   "outputs": [],
   "source": [
    "batchsize = 128\n",
    "\n",
    "train_dataloader = DataLoader(train_dataset, batchsize)\n",
    "val_dataloader = DataLoader(train_dataset, batchsize)"
   ]
  },
  {
   "cell_type": "code",
   "execution_count": 20,
   "metadata": {},
   "outputs": [],
   "source": [
    "num_classes = 12"
   ]
  },
  {
   "cell_type": "code",
   "execution_count": 21,
   "metadata": {},
   "outputs": [],
   "source": [
    "class CubeNet(nn.Module):\n",
    "    def __init__(self):\n",
    "        super().__init__()\n",
    "        \n",
    "        self.conv1 = nn.Conv2d(\n",
    "            in_channels=1, out_channels=16,\n",
    "            kernel_size=2, stride=1, padding=1\n",
    "        )\n",
    "        \n",
    "        self.conv2 = nn.Conv2d(\n",
    "            in_channels=16, out_channels=32,\n",
    "            kernel_size=2, stride=1, padding=1\n",
    "        )\n",
    "        \n",
    "        self.lin1 = nn.Linear(96, 48)\n",
    "        self.dropout1 = nn.Dropout(.05)\n",
    "        self.batchnorm1 = nn.BatchNorm1d(48)\n",
    "        nn.init.kaiming_normal_(self.lin1.weight.data)\n",
    "        \n",
    "        self.output = nn.Linear(48, num_classes)\n",
    "        nn.init.kaiming_normal_(self.output.weight.data)\n",
    "    \n",
    "    def forward(self, x):\n",
    "        x = F.max_pool2d(F.relu(self.conv1(x)), (2, 2))\n",
    "        x = F.max_pool2d(F.relu(self.conv2(x)), (2, 2))\n",
    "        x = x.view(-1, 32 * 1 * 3)\n",
    "        \n",
    "        x = F.relu(self.lin1(x))\n",
    "        x = self.dropout1(x)\n",
    "        x = self.batchnorm1(x)\n",
    "        \n",
    "        x = self.output(x)\n",
    "        return x"
   ]
  },
  {
   "cell_type": "markdown",
   "metadata": {},
   "source": [
    "# Perform a grid search for hyperparameters"
   ]
  },
  {
   "cell_type": "code",
   "execution_count": 22,
   "metadata": {},
   "outputs": [],
   "source": [
    "from livelossplot import PlotLosses"
   ]
  },
  {
   "cell_type": "code",
   "execution_count": 23,
   "metadata": {},
   "outputs": [
    {
     "name": "stdout",
     "output_type": "stream",
     "text": [
      "Using device: cuda\n"
     ]
    }
   ],
   "source": [
    "device = torch.device('cuda' if torch.cuda.is_available() else'cpu')\n",
    "print(\"Using device: \" + str(device))"
   ]
  },
  {
   "cell_type": "code",
   "execution_count": 24,
   "metadata": {},
   "outputs": [],
   "source": [
    "def train_model(model, criterion, optimizer, num_epochs=10, should_plot=True, config={}):\n",
    "    liveloss = PlotLosses()\n",
    "    model = model.to(device)\n",
    "    \n",
    "    for epoch in range(num_epochs):\n",
    "        logs = {}\n",
    "        for phase in ['train', 'validation']:\n",
    "            if phase == 'train':\n",
    "                model.train()\n",
    "            else:\n",
    "                model.eval()\n",
    "\n",
    "            running_loss = 0.0\n",
    "            running_corrects = 0\n",
    "\n",
    "            for inputs, labels in dataloaders[phase]:\n",
    "                inputs = inputs.float().to(device)\n",
    "                labels = labels.to(device)\n",
    "\n",
    "                outputs = model(inputs)\n",
    "                loss = criterion(outputs, labels)\n",
    "\n",
    "                if phase == 'train':\n",
    "                    optimizer.zero_grad()\n",
    "                    loss.backward()\n",
    "                    optimizer.step()\n",
    "\n",
    "                _, preds = torch.max(outputs, 1)\n",
    "                running_loss += loss.detach() * inputs.size(0)\n",
    "                running_corrects += torch.sum(preds == labels.data)\n",
    "\n",
    "            epoch_loss = running_loss / len(dataloaders[phase].dataset)\n",
    "            epoch_acc = running_corrects.float() / len(dataloaders[phase].dataset)\n",
    "            \n",
    "            prefix = ''\n",
    "            if phase == 'validation':\n",
    "                prefix = 'val_'\n",
    "\n",
    "            logs[prefix + 'log loss'] = epoch_loss.item()\n",
    "            logs[prefix + 'accuracy'] = epoch_acc.item()\n",
    "        \n",
    "        if should_plot:\n",
    "            liveloss.update(logs)\n",
    "            liveloss.draw()\n",
    "        if config:    \n",
    "            print(\"Current config: \")\n",
    "            pprint(config)\n",
    "    return liveloss.metrics_extrema['val_log loss']['min'], \\\n",
    "        liveloss.metrics_extrema['val_accuracy']['max']"
   ]
  },
  {
   "cell_type": "code",
   "execution_count": 25,
   "metadata": {},
   "outputs": [],
   "source": [
    "dataloaders = {\n",
    "    'train': train_dataloader,\n",
    "    'validation': val_dataloader,\n",
    "}\n",
    "\n",
    "model = CubeNet()\n",
    "criterion = nn.CrossEntropyLoss()\n",
    "optimizer = torch.optim.Adam(model.parameters(), lr=0.01)"
   ]
  },
  {
   "cell_type": "code",
   "execution_count": 26,
   "metadata": {
    "scrolled": true
   },
   "outputs": [
    {
     "data": {
      "image/png": "[encoded data removed]",
      "text/plain": [
       "<Figure size 864x576 with 2 Axes>"
      ]
     },
     "metadata": {
      "needs_background": "light"
     },
     "output_type": "display_data"
    },
    {
     "name": "stdout",
     "output_type": "stream",
     "text": [
      "log loss:\n",
      "training   (min:    1.688, max:    1.728, cur:    1.689)\n",
      "validation (min:    1.685, max:    1.693, cur:    1.686)\n",
      "\n",
      "accuracy:\n",
      "training   (min:    0.244, max:    0.247, cur:    0.245)\n",
      "validation (min:    0.241, max:    0.254, cur:    0.250)\n"
     ]
    },
    {
     "data": {
      "text/plain": [
       "(1.685075044631958, 0.25437238812446594)"
      ]
     },
     "execution_count": 26,
     "metadata": {},
     "output_type": "execute_result"
    }
   ],
   "source": [
    "train_model(model, criterion, optimizer)"
   ]
  },
  {
   "cell_type": "markdown",
   "metadata": {},
   "source": [
    "# Experimental: Attempting to add embeddings for pieces\n",
    "\n",
    "In the above attempt, we're simply feeding the neural net a matrix of stickers. In reality, the cube is a collection of pieces. In this attempt, we encode pieces as a type of categorical variable that passes through a 3-dimensional embedding."
   ]
  },
  {
   "cell_type": "code",
   "execution_count": 29,
   "metadata": {},
   "outputs": [],
   "source": [
    "# Attempting to add piece information to the dataset as well\n",
    "class ExperimentalCubeDataset(Dataset):\n",
    "    def __init__(self, stickers, pieces, solutions):\n",
    "        self.y = solutions.astype(np.int64)\n",
    "        self.stickers = stickers.swapaxes(1, 3).astype(np.float64)\n",
    "        self.pieces = self._build_pieces(pieces)\n",
    "        self.n = stickers.shape[0]\n",
    "    def __len__(self):\n",
    "        return self.n\n",
    "    def __getitem__(self, idx):\n",
    "        return (self.stickers[idx], self.pieces[idx], self.y[idx])\n",
    "    \n",
    "    def _build_pieces(self, pieces):\n",
    "        #TODO: vectorize this\n",
    "        num_pieces = 8\n",
    "        output = np.zeros( pieces.shape )\n",
    "        for i, example in enumerate(pieces):\n",
    "            new_example = np.zeros( cube_position )\n",
    "            for cubit_position, encoded_color in enumerate(example):\n",
    "                # encoded color ranges from [0, 7]\n",
    "                new_example[encoded_color] = cube_position\n",
    "            output[i] = new_example\n",
    "        return output\n"
   ]
  },
  {
   "cell_type": "code",
   "execution_count": 15,
   "metadata": {},
   "outputs": [],
   "source": [
    "train_dataset = ExperimentalCubeDataset(train_X, train_y)\n",
    "val_dataset = ExperimentalCubeDataset(validation_X, validation_y)"
   ]
  },
  {
   "cell_type": "code",
   "execution_count": 30,
   "metadata": {},
   "outputs": [],
   "source": [
    "class ExperimentalCubeNet(nn.Module):\n",
    "    def __init__(self):\n",
    "        super().__init__()\n",
    "        \n",
    "        self.conv1 = nn.Conv2d(\n",
    "            in_channels=1, out_channels=16,\n",
    "            kernel_size=2, stride=1, padding=1\n",
    "        )\n",
    "        self.conv2 = nn.Conv2d(\n",
    "            in_channels=16, out_channels=32,\n",
    "            kernel_size=2, stride=1, padding=1\n",
    "        )\n",
    "        \n",
    "        # 8 pieces encoded into 3 dimensions\n",
    "        self.embedding = nn.Embedding(8, 3)\n",
    "        \n",
    "        \n",
    "        # Flattened conv dimensionality: 96\n",
    "        # Flattened embedding dimensionality: 24\n",
    "        # Total concatenation dimensionality: 120\n",
    "        self.lin1 = nn.Linear(120, 60)\n",
    "        self.dropout1 = nn.Dropout(.05)\n",
    "        self.batchnorm1 = nn.BatchNorm1d(60)\n",
    "        nn.init.kaiming_normal_(self.lin1.weight.data)\n",
    "        \n",
    "        \n",
    "        self.output = nn.Linear(60, num_classes)\n",
    "        nn.init.kaiming_normal_(self.output.weight.data)\n",
    "    \n",
    "    def forward(self, stickers, pieces):\n",
    "        stickers = F.max_pool2d(F.relu(self.conv1(x)), (2, 2))\n",
    "        stickers = F.max_pool2d(F.relu(self.conv2(x)), (2, 2))\n",
    "        stickers = x.view(-1, 32 * 1 * 3)\n",
    "        \n",
    "        # dimensions: batch_sz * 8 * 3\n",
    "        pieces = self.embedding(pieces)\n",
    "        pieces = pieces.view(-1, 8 * 3)\n",
    "        \n",
    "        x = torch.cat( (stickers, pieces), 1)\n",
    "        \n",
    "        x = F.relu(self.lin1(x))\n",
    "        x = self.dropout1(x)\n",
    "        x = self.batchnorm1(x)\n",
    "        \n",
    "        x = self.output(x)\n",
    "        return x"
   ]
  },
  {
   "cell_type": "code",
   "execution_count": null,
   "metadata": {},
   "outputs": [],
   "source": [
    "def train_model(model, criterion, optimizer, num_epochs=10, should_plot=True, config={}):\n",
    "    liveloss = PlotLosses()\n",
    "    model = model.to(device)\n",
    "    \n",
    "    for epoch in range(num_epochs):\n",
    "        logs = {}\n",
    "        for phase in ['train', 'validation']:\n",
    "            if phase == 'train':\n",
    "                model.train()\n",
    "            else:\n",
    "                model.eval()\n",
    "\n",
    "            running_loss = 0.0\n",
    "            running_corrects = 0\n",
    "\n",
    "            for inputs, labels in dataloaders[phase]:\n",
    "                inputs = inputs.float().to(device)\n",
    "                labels = labels.to(device)\n",
    "\n",
    "                outputs = model(inputs)\n",
    "                loss = criterion(outputs, labels)\n",
    "\n",
    "                if phase == 'train':\n",
    "                    optimizer.zero_grad()\n",
    "                    loss.backward()\n",
    "                    optimizer.step()\n",
    "\n",
    "                _, preds = torch.max(outputs, 1)\n",
    "                running_loss += loss.detach() * inputs.size(0)\n",
    "                running_corrects += torch.sum(preds == labels.data)\n",
    "\n",
    "            epoch_loss = running_loss / len(dataloaders[phase].dataset)\n",
    "            epoch_acc = running_corrects.float() / len(dataloaders[phase].dataset)\n",
    "            \n",
    "            prefix = ''\n",
    "            if phase == 'validation':\n",
    "                prefix = 'val_'\n",
    "\n",
    "            logs[prefix + 'log loss'] = epoch_loss.item()\n",
    "            logs[prefix + 'accuracy'] = epoch_acc.item()\n",
    "        \n",
    "        if should_plot:\n",
    "            liveloss.update(logs)\n",
    "            liveloss.draw()\n",
    "        if config:    \n",
    "            print(\"Current config: \")\n",
    "            pprint(config)\n",
    "    return liveloss.metrics_extrema['val_log loss']['min'], \\\n",
    "        liveloss.metrics_extrema['val_accuracy']['max']"
   ]
  }
 ],
 "metadata": {
  "kernelspec": {
   "display_name": "Python 3",
   "language": "python",
   "name": "python3"
  },
  "language_info": {
   "codemirror_mode": {
    "name": "ipython",
    "version": 3
   },
   "file_extension": ".py",
   "mimetype": "text/x-python",
   "name": "python",
   "nbconvert_exporter": "python",
   "pygments_lexer": "ipython3",
   "version": "3.7.2"
  }
 },
 "nbformat": 4,
 "nbformat_minor": 2
}
