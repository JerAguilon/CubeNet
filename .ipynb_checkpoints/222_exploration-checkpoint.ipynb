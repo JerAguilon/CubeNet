{
 "cells": [
  {
   "cell_type": "code",
   "execution_count": 1,
   "metadata": {
    "scrolled": false
   },
   "outputs": [],
   "source": [
    "from MagicCube.cube import Cube\n",
    "from pyTwistyScrambler import scrambler222\n",
    "from enum import Enum\n",
    "\n",
    "from sklearn.preprocessing import LabelEncoder\n",
    "from sklearn.preprocessing import OneHotEncoder\n",
    "from sklearn.preprocessing import normalize\n",
    "\n",
    "import numpy as np\n",
    "import pandas as pd"
   ]
  },
  {
   "cell_type": "code",
   "execution_count": 2,
   "metadata": {},
   "outputs": [],
   "source": [
    "c = Cube(2)"
   ]
  },
  {
   "cell_type": "code",
   "execution_count": 3,
   "metadata": {},
   "outputs": [],
   "source": [
    "c.move('F', 0, 1) # 'F'\n",
    "c.move('R', 0, 1) # 'R'"
   ]
  },
  {
   "cell_type": "code",
   "execution_count": 4,
   "metadata": {},
   "outputs": [
    {
     "data": {
      "image/png": "[encoded data removed]",
      "text/plain": [
       "<Figure size 167.04x149.76 with 1 Axes>"
      ]
     },
     "execution_count": 4,
     "metadata": {},
     "output_type": "execute_result"
    },
    {
     "data": {
      "image/png": "[encoded data removed]",
      "text/plain": [
       "<Figure size 167.04x149.76 with 1 Axes>"
      ]
     },
     "metadata": {},
     "output_type": "display_data"
    }
   ],
   "source": [
    "c.render()"
   ]
  },
  {
   "cell_type": "code",
   "execution_count": 5,
   "metadata": {},
   "outputs": [
    {
     "data": {
      "text/plain": [
       "{'w': 0, 'y': 1, 'b': 2, 'g': 3, 'o': 4, 'r': 5}"
      ]
     },
     "execution_count": 5,
     "metadata": {},
     "output_type": "execute_result"
    }
   ],
   "source": [
    "c.colordict"
   ]
  },
  {
   "cell_type": "code",
   "execution_count": 6,
   "metadata": {
    "scrolled": true
   },
   "outputs": [
    {
     "data": {
      "text/plain": [
       "'Color Dict:'"
      ]
     },
     "metadata": {},
     "output_type": "display_data"
    },
    {
     "data": {
      "text/plain": [
       "[('w', 0), ('y', 1), ('b', 2), ('g', 3), ('o', 4), ('r', 5)]"
      ]
     },
     "metadata": {},
     "output_type": "display_data"
    },
    {
     "data": {
      "text/plain": [
       "'Face Dict'"
      ]
     },
     "metadata": {},
     "output_type": "display_data"
    },
    {
     "data": {
      "text/plain": [
       "[('U', 0), ('D', 1), ('F', 2), ('B', 3), ('R', 4), ('L', 5)]"
      ]
     },
     "metadata": {},
     "output_type": "display_data"
    },
    {
     "data": {
      "text/plain": [
       "'Sticker State'"
      ]
     },
     "metadata": {},
     "output_type": "display_data"
    },
    {
     "data": {
      "text/plain": [
       "array([[[5, 0],\n",
       "        [2, 2]],\n",
       "\n",
       "       [[1, 4],\n",
       "        [3, 3]],\n",
       "\n",
       "       [[2, 2],\n",
       "        [1, 4]],\n",
       "\n",
       "       [[0, 5],\n",
       "        [3, 3]],\n",
       "\n",
       "       [[4, 0],\n",
       "        [4, 0]],\n",
       "\n",
       "       [[5, 5],\n",
       "        [1, 1]]])"
      ]
     },
     "metadata": {},
     "output_type": "display_data"
    }
   ],
   "source": [
    "display(\"Color Dict:\", [ (key, value) for (key, value) in sorted( c.colordict.items(), key=lambda x: x[1] )])\n",
    "display(\"Face Dict\", [ (key, value) for (key, value) in sorted( c.facedict.items(), key=lambda x: x[1] ) ])\n",
    "display(\"Sticker State\", c.stickers)"
   ]
  },
  {
   "cell_type": "code",
   "execution_count": 7,
   "metadata": {},
   "outputs": [
    {
     "data": {
      "text/plain": [
       "(6, 2, 2)"
      ]
     },
     "metadata": {},
     "output_type": "display_data"
    },
    {
     "data": {
      "text/plain": [
       "array([[5, 0],\n",
       "       [2, 2],\n",
       "       [1, 4],\n",
       "       [3, 3],\n",
       "       [2, 2],\n",
       "       [1, 4],\n",
       "       [0, 5],\n",
       "       [3, 3],\n",
       "       [4, 0],\n",
       "       [4, 0],\n",
       "       [5, 5],\n",
       "       [1, 1]])"
      ]
     },
     "metadata": {},
     "output_type": "display_data"
    }
   ],
   "source": [
    "display(c.stickers.shape)\n",
    "display(c.stickers.reshape(12, 2))"
   ]
  },
  {
   "cell_type": "markdown",
   "metadata": {},
   "source": [
    "Here we identify all the piece locations on the face dict."
   ]
  },
  {
   "cell_type": "code",
   "execution_count": 8,
   "metadata": {},
   "outputs": [],
   "source": [
    "front_left_top =   [ [2, 0, 1], [5, 1, 1], [0, 0, 0] ]\n",
    "front_right_top =  [ [2, 1, 1], [4, 0, 1], [0, 1, 0] ]\n",
    "front_left_down =  [ [2, 0, 0], [5, 1, 0], [1, 0, 1] ]\n",
    "front_right_down = [ [2, 1, 0], [4, 0, 0], [1, 1, 1] ]\n",
    "back_left_top =    [ [3, 1, 1], [5, 0, 1], [0, 0, 1] ]\n",
    "back_right_top =   [ [3, 0, 1], [4, 1, 1], [0, 1, 1] ]\n",
    "back_left_down =   [ [3, 1, 0], [5, 0, 0], [1, 0, 0] ]\n",
    "back_right_down =  [ [3, 0, 0], [4, 1, 0], [1, 1, 0] ]\n",
    "\n",
    "all_pieces = [\n",
    "    front_left_top,\n",
    "    front_right_top,\n",
    "    front_left_down,\n",
    "    front_right_down,\n",
    "    back_left_top,\n",
    "    back_right_top,\n",
    "    back_left_down,\n",
    "    back_right_down,\n",
    "]"
   ]
  },
  {
   "cell_type": "code",
   "execution_count": 9,
   "metadata": {},
   "outputs": [
    {
     "data": {
      "text/plain": [
       "'Color Dict:'"
      ]
     },
     "metadata": {},
     "output_type": "display_data"
    },
    {
     "data": {
      "text/plain": [
       "[('w', 0), ('y', 1), ('b', 2), ('g', 3), ('o', 4), ('r', 5)]"
      ]
     },
     "metadata": {},
     "output_type": "display_data"
    }
   ],
   "source": [
    "display(\"Color Dict:\", [ (key, value) for (key, value) in sorted( c.colordict.items(), key=lambda x: x[1] )])"
   ]
  },
  {
   "cell_type": "code",
   "execution_count": 10,
   "metadata": {},
   "outputs": [],
   "source": [
    "class PieceColors(Enum):\n",
    "    WHITE_BLUE_RED=0\n",
    "    WHITE_BLUE_ORANGE=1\n",
    "    WHITE_GREEN_RED=2\n",
    "    WHITE_GREEN_ORANGE=3\n",
    "    YELLOW_BLUE_RED=4\n",
    "    YELLOW_BLUE_ORANGE=5\n",
    "    YELLOW_GREEN_RED=6\n",
    "    YELLOW_GREEN_ORANGE=7\n",
    "\n",
    "piece_color_mapping = {\n",
    "    (0, 2, 5): PieceColors.WHITE_BLUE_RED,\n",
    "    (0, 2, 4): PieceColors.WHITE_BLUE_ORANGE,\n",
    "    (0, 3, 5): PieceColors.WHITE_GREEN_RED,\n",
    "    (0, 3, 4): PieceColors.WHITE_GREEN_ORANGE,\n",
    "    (1, 2, 5): PieceColors.YELLOW_BLUE_RED,\n",
    "    (1, 2, 4): PieceColors.YELLOW_BLUE_ORANGE,\n",
    "    (1, 3, 5): PieceColors.YELLOW_GREEN_RED,\n",
    "    (1, 3, 4): PieceColors.YELLOW_GREEN_ORANGE\n",
    "}\n",
    "    \n",
    "def get_scramble(n=2):\n",
    "    if n == 2:\n",
    "        return scrambler222.get_optimal_scramble().split(' ')\n",
    "    raise ValueError(\"Unsupported cube size\")\n",
    "\n",
    "    \n",
    "def get_block_colors(colors):\n",
    "    colors = tuple(sorted(list(colors)))\n",
    "    return piece_color_mapping[colors]"
   ]
  },
  {
   "cell_type": "code",
   "execution_count": 11,
   "metadata": {
    "scrolled": true
   },
   "outputs": [
    {
     "data": {
      "text/plain": [
       "{'F': 0, \"F'\": 1, 'F2': 2, 'R': 3, \"R'\": 4, 'R2': 5, 'U': 6, \"U'\": 7, 'U2': 8}"
      ]
     },
     "execution_count": 11,
     "metadata": {},
     "output_type": "execute_result"
    }
   ],
   "source": [
    "num_classes = 9\n",
    "one_hot = np.identity(9)\n",
    "possible_moves = ['F', \"F'\", 'F2', 'R', \"R'\", 'R2', 'U', \"U'\", 'U2']\n",
    "move_mapping = dict(\n",
    "    [(move, i) for i, move in enumerate(\n",
    "        possible_moves\n",
    "    )]\n",
    ")\n",
    "move_mapping"
   ]
  },
  {
   "cell_type": "code",
   "execution_count": 12,
   "metadata": {},
   "outputs": [],
   "source": [
    "def convert_move(m):\n",
    "    return {\n",
    "        \"F\" : ('F', 0, 1),\n",
    "        \"F'\" : ('F', 0, -1),\n",
    "        \"F2\": ('F', 0, 2),\n",
    "        \"B\" : ('B', 0, 1),\n",
    "        \"B'\": ('B', 0, -1),\n",
    "        \"B2\": ('B', 0, 2),\n",
    "        \"L\": ('L', 0, 1),\n",
    "        \"L'\": ('L', 0, -1),\n",
    "        \"L2\": ('L', 0, 2),\n",
    "        \"R\": ('R', 0, 1),\n",
    "        \"R'\": ('R', 0, -1),\n",
    "        \"R2\": ('R', 0, 2),\n",
    "        \"U\": ('U', 0, 1),\n",
    "        \"U'\": ('U', 0, -1),\n",
    "        \"U2\": ('U', 0, 2),\n",
    "        \"D\": ('D', 0, 1),\n",
    "        \"D'\": ('D', 0, -1),\n",
    "        \"D2\": ('D', 0, 2),\n",
    "    }[m]\n",
    "\n",
    "def counter_move(m):\n",
    "    return {\n",
    "        \"F\": \"F'\",\n",
    "        \"F'\": \"F\",\n",
    "        \"B'\": \"B'\",\n",
    "        \"B\": \"B\",\n",
    "        \"R\": \"R'\",\n",
    "        \"R'\": \"R\",\n",
    "        \"L\": \"L'\",\n",
    "        \"L'\": \"L\",\n",
    "        \"U\": \"U'\",\n",
    "        \"U'\": \"U\",\n",
    "        \"D\": \"D'\",\n",
    "        \"D'\": \"D\",\n",
    "        \"F2\": \"F2\",\n",
    "        \"B2\": \"B2\",\n",
    "        \"R2\": \"R2\",\n",
    "        \"L2\": \"L2\",\n",
    "        \"U2\": \"U2\",\n",
    "        \"D2\": \"D2\",\n",
    "    }[m]\n",
    "    \n",
    "def generate_case(moves=10):\n",
    "    if moves > 10:\n",
    "        raise ValueError(\"Only up to 10 moves supported\")\n",
    "    scramble = get_scramble()[0:moves]\n",
    "    undo_scramble = [counter_move(m) for m in reversed(scramble)]\n",
    "    print(' '.join(scramble))\n",
    "    print(' '.join(undo_scramble))\n",
    "    return scramble, undo_scramble\n",
    "\n",
    "def unfold_case(scramble, undo_scramble):\n",
    "    c = Cube(2)\n",
    "    n = len(scramble)\n",
    "    X_stickers = np.zeros( (n, 12, 2, 1) )\n",
    "    X_pieces = np.zeros((n, 8))\n",
    "    y = np.zeros(n)\n",
    "    for i in range(n):\n",
    "        c.move(*convert_move(scramble[i]))\n",
    "        solution = undo_scramble[i]\n",
    "        stickers = c.stickers.copy()\n",
    "        state = np.asarray(stickers).reshape(12, 2, 1)\n",
    "        X_stickers[i] = state\n",
    "        for j, piece in enumerate(all_pieces):\n",
    "            piece_stickers = []\n",
    "            for sticker_pos in piece:\n",
    "                sticker_color = stickers[\n",
    "                    sticker_pos[0], sticker_pos[1], sticker_pos[2]\n",
    "                ]\n",
    "                piece_stickers.append(sticker_color)\n",
    "            X_pieces[i][j] = get_block_colors(piece_stickers).value\n",
    "        y[i] = move_mapping[solution]\n",
    "    return X_stickers, X_pieces, y\n",
    "\n",
    "\n",
    "def data_generator(solves=5000):\n",
    "    stickers = []\n",
    "    pieces = []\n",
    "    solutions = []\n",
    "    for i in range(solves):\n",
    "        if i % 100 == 0:\n",
    "            print(f'{i}/{solves} completed')\n",
    "        scramble, reverse = generate_case(moves=10)\n",
    "        s, p, y = unfold_case(scramble, reverse)\n",
    "        stickers.append(s)\n",
    "        pieces.append(p)\n",
    "        solutions.append(y)\n",
    "    stickers = np.concatenate(stickers, axis=0)\n",
    "    pieces = np.concatenate(pieces, axis=0)\n",
    "    solutions = np.concatenate(solutions, axis=0)\n",
    "    return stickers, pieces, solutions\n"
   ]
  },
  {
   "cell_type": "code",
   "execution_count": null,
   "metadata": {
    "scrolled": false
   },
   "outputs": [],
   "source": [
    "stickers, pieces, solutions = data_generator(solves=100)"
   ]
  },
  {
   "cell_type": "code",
   "execution_count": 45,
   "metadata": {},
   "outputs": [],
   "source": [
    "SAVE_STICKERS = \"data/train_stickers_doubles_tmp.npy\"\n",
    "SAVE_PIECES = \"data/train_pieces_doubles_tmp.npy\"\n",
    "SAVE_SOLUTIONS = \"data/train_solutions_tmp.npy\""
   ]
  },
  {
   "cell_type": "code",
   "execution_count": null,
   "metadata": {},
   "outputs": [],
   "source": [
    "np.save(SAVE_STICKERS, stickers)\n",
    "np.save(SAVE_PIECES, pieces)\n",
    "np.save(SAVE_SOLUTIONS, solutions)"
   ]
  },
  {
   "cell_type": "markdown",
   "metadata": {},
   "source": [
    "# Validate the test data"
   ]
  },
  {
   "cell_type": "code",
   "execution_count": 31,
   "metadata": {
    "scrolled": true
   },
   "outputs": [
    {
     "name": "stdout",
     "output_type": "stream",
     "text": [
      "F U2 F' R F R' U R' U\n",
      "U' R U' R F' R' F U2 F'\n"
     ]
    }
   ],
   "source": [
    "scramble, undo = generate_case()"
   ]
  },
  {
   "cell_type": "code",
   "execution_count": 32,
   "metadata": {},
   "outputs": [],
   "source": [
    "stickers, pieces, solutions = unfold_case(scramble, undo)"
   ]
  },
  {
   "cell_type": "code",
   "execution_count": 33,
   "metadata": {},
   "outputs": [],
   "source": [
    "test_cube = Cube(2)"
   ]
  },
  {
   "cell_type": "code",
   "execution_count": 34,
   "metadata": {},
   "outputs": [
    {
     "data": {
      "text/plain": [
       "((6, 2, 2), dtype('int64'))"
      ]
     },
     "execution_count": 34,
     "metadata": {},
     "output_type": "execute_result"
    }
   ],
   "source": [
    "test_cube.stickers.shape, test_cube.stickers.dtype"
   ]
  },
  {
   "cell_type": "code",
   "execution_count": 35,
   "metadata": {},
   "outputs": [
    {
     "data": {
      "text/plain": [
       "\"U' R U' R F' R' F U2 F'\""
      ]
     },
     "execution_count": 35,
     "metadata": {},
     "output_type": "execute_result"
    }
   ],
   "source": [
    "reverse_move_mapping = dict(\n",
    "    [(i, move) for i, move in enumerate(\n",
    "        possible_moves\n",
    "    )]\n",
    ")\n",
    "solution = list(int(i) for i in list(solutions))\n",
    "solution = [reverse_move_mapping[i] for i in solution]\n",
    "' '.join(solution)"
   ]
  },
  {
   "cell_type": "code",
   "execution_count": 36,
   "metadata": {},
   "outputs": [],
   "source": [
    "cube_state = stickers[-1]"
   ]
  },
  {
   "cell_type": "code",
   "execution_count": 37,
   "metadata": {},
   "outputs": [
    {
     "data": {
      "text/plain": [
       "(6, 2, 2)"
      ]
     },
     "execution_count": 37,
     "metadata": {},
     "output_type": "execute_result"
    }
   ],
   "source": [
    "test_cube.stickers.shape"
   ]
  },
  {
   "cell_type": "code",
   "execution_count": 38,
   "metadata": {},
   "outputs": [],
   "source": [
    "test_cube.stickers = cube_state.reshape(6, 2, 2).astype(np.int64)"
   ]
  },
  {
   "cell_type": "code",
   "execution_count": 39,
   "metadata": {
    "scrolled": true
   },
   "outputs": [
    {
     "data": {
      "image/png": "[encoded data removed]",
      "text/plain": [
       "<Figure size 167.04x149.76 with 1 Axes>"
      ]
     },
     "execution_count": 39,
     "metadata": {},
     "output_type": "execute_result"
    },
    {
     "data": {
      "image/png": "[encoded data removed]",
      "text/plain": [
       "<Figure size 167.04x149.76 with 1 Axes>"
      ]
     },
     "metadata": {},
     "output_type": "display_data"
    }
   ],
   "source": [
    "test_cube.render()"
   ]
  },
  {
   "cell_type": "code",
   "execution_count": 40,
   "metadata": {},
   "outputs": [],
   "source": [
    "for move in solution:\n",
    "    test_cube.move(*convert_move(move))"
   ]
  },
  {
   "cell_type": "code",
   "execution_count": 41,
   "metadata": {
    "scrolled": false
   },
   "outputs": [
    {
     "data": {
      "image/png": "[encoded data removed]",
      "text/plain": [
       "<Figure size 167.04x149.76 with 1 Axes>"
      ]
     },
     "execution_count": 41,
     "metadata": {},
     "output_type": "execute_result"
    },
    {
     "data": {
      "image/png": "[encoded data removed]",
      "text/plain": [
       "<Figure size 167.04x149.76 with 1 Axes>"
      ]
     },
     "metadata": {},
     "output_type": "display_data"
    }
   ],
   "source": [
    "test_cube.render()"
   ]
  },
  {
   "cell_type": "code",
   "execution_count": 47,
   "metadata": {},
   "outputs": [],
   "source": [
    "stickers = np.load(SAVE_STICKERS)\n",
    "solutions = np.load(SAVE_SOLUTIONS)"
   ]
  },
  {
   "cell_type": "code",
   "execution_count": 50,
   "metadata": {},
   "outputs": [],
   "source": [
    "solution = list(int(i) for i in list(solutions))\n",
    "solution = [reverse_move_mapping[i] for i in solution]"
   ]
  },
  {
   "cell_type": "code",
   "execution_count": 51,
   "metadata": {},
   "outputs": [],
   "source": [
    "test_cube = Cube(2)"
   ]
  },
  {
   "cell_type": "code",
   "execution_count": 55,
   "metadata": {},
   "outputs": [
    {
     "data": {
      "text/plain": [
       "(<Figure size 167.04x149.76 with 1 Axes>, 'U2')"
      ]
     },
     "execution_count": 55,
     "metadata": {},
     "output_type": "execute_result"
    },
    {
     "data": {
      "image/png": "[encoded data removed]",
      "text/plain": [
       "<Figure size 167.04x149.76 with 1 Axes>"
      ]
     },
     "metadata": {},
     "output_type": "display_data"
    }
   ],
   "source": [
    "test_cube.stickers = stickers[0].astype(np.int64).reshape(6, 2, 2)\n",
    "test_cube.render(), solution[0]"
   ]
  },
  {
   "cell_type": "markdown",
   "metadata": {},
   "source": [
    "# Create training and validation sets"
   ]
  },
  {
   "cell_type": "code",
   "execution_count": null,
   "metadata": {},
   "outputs": [],
   "source": [
    "from torch.utils.data import Dataset, DataLoader"
   ]
  },
  {
   "cell_type": "code",
   "execution_count": null,
   "metadata": {},
   "outputs": [],
   "source": [
    "# Attempting to add piece information to the dataset as well\n",
    "class CubeDataset(Dataset):\n",
    "    def __init__(self, stickers, solutions):\n",
    "        self.y = solutions.astype(np.int64)\n",
    "        self.stickers = stickers.swapaxes(1, 3).astype(np.float64)\n",
    "        self.n = stickers.shape[0]\n",
    "    def __len__(self):\n",
    "        return self.n\n",
    "    def __getitem__(self, idx):\n",
    "        return (self.stickers[idx], self.y[idx])\n"
   ]
  },
  {
   "cell_type": "code",
   "execution_count": null,
   "metadata": {},
   "outputs": [],
   "source": [
    "def unison_shuffle(*data):\n",
    "    assert all(\n",
    "        [len(data[i]) == len(data[i+1]) for i in range(len(data) - 1)]\n",
    "    )\n",
    "    size = len(data[0])\n",
    "    p = np.random.permutation(size)\n",
    "    return tuple([d[p] for d in data])"
   ]
  },
  {
   "cell_type": "code",
   "execution_count": null,
   "metadata": {},
   "outputs": [],
   "source": [
    "train_stickers = np.load(SAVE_STICKERS)\n",
    "train_pieces = np.load(SAVE_PIECES)\n",
    "train_solutions = np.load(SAVE_SOLUTIONS)"
   ]
  },
  {
   "cell_type": "code",
   "execution_count": null,
   "metadata": {
    "scrolled": false
   },
   "outputs": [],
   "source": [
    "train_stickers.shape, train_pieces.shape, train_solutions.shape"
   ]
  },
  {
   "cell_type": "code",
   "execution_count": null,
   "metadata": {},
   "outputs": [],
   "source": [
    "size_dataset = len(train_solutions)\n",
    "\n",
    "size_validation = int(size_dataset * .2)"
   ]
  },
  {
   "cell_type": "code",
   "execution_count": null,
   "metadata": {},
   "outputs": [],
   "source": [
    "train_stickers_X = train_stickers[:size_dataset-size_validation]\n",
    "train_pieces_X = train_pieces[:size_dataset-size_validation]\n",
    "train_y = train_solutions[:size_dataset-size_validation]\n",
    "\n",
    "validation_stickers_X = train_stickers[-size_validation:]\n",
    "validation_pieces_X = train_pieces[-size_validation:]\n",
    "validation_y = train_solutions[-size_validation:]"
   ]
  },
  {
   "cell_type": "code",
   "execution_count": null,
   "metadata": {
    "scrolled": true
   },
   "outputs": [],
   "source": [
    "display(train_stickers_X.shape, train_pieces_X.shape, train_y.shape)\n",
    "display(validation_stickers_X.shape, validation_pieces_X.shape, validation_y.shape)"
   ]
  },
  {
   "cell_type": "code",
   "execution_count": null,
   "metadata": {},
   "outputs": [],
   "source": [
    "train_dataset = CubeDataset(train_stickers_X, train_y)\n",
    "val_dataset = CubeDataset(validation_stickers_X, validation_y)"
   ]
  },
  {
   "cell_type": "markdown",
   "metadata": {},
   "source": [
    "# Creating a Deep Learning architecture"
   ]
  },
  {
   "cell_type": "code",
   "execution_count": null,
   "metadata": {},
   "outputs": [],
   "source": [
    "import torch\n",
    "import torch.nn as nn\n",
    "import torch.nn.functional as F\n",
    "\n",
    "from torch.utils.data import Dataset, DataLoader"
   ]
  },
  {
   "cell_type": "code",
   "execution_count": null,
   "metadata": {},
   "outputs": [],
   "source": [
    "batchsize = 128\n",
    "\n",
    "train_dataloader = DataLoader(train_dataset, batchsize, shuffle=True)\n",
    "val_dataloader = DataLoader(val_dataset, batchsize, shuffle=True)"
   ]
  },
  {
   "cell_type": "code",
   "execution_count": null,
   "metadata": {},
   "outputs": [],
   "source": [
    "num_classes = 9"
   ]
  },
  {
   "cell_type": "code",
   "execution_count": null,
   "metadata": {},
   "outputs": [],
   "source": [
    "class CubeNet(nn.Module):\n",
    "    def __init__(self):\n",
    "        super().__init__()\n",
    "        \n",
    "        self.conv1 = nn.Conv2d(\n",
    "            in_channels=1, out_channels=128,\n",
    "            kernel_size=2, stride=1, padding=1\n",
    "        )\n",
    "        \n",
    "        self.conv2 = nn.Conv2d(\n",
    "            in_channels=128, out_channels=256,\n",
    "            kernel_size=2, stride=1, padding=1\n",
    "        )\n",
    "        \n",
    "        self.lin1 = nn.Linear(768, 100)\n",
    "        self.dropout1 = nn.Dropout(.05)\n",
    "        self.batchnorm1 = nn.BatchNorm1d(100)\n",
    "        nn.init.kaiming_normal_(self.lin1.weight.data)\n",
    "        \n",
    "        self.output = nn.Linear(100, num_classes)\n",
    "        nn.init.kaiming_normal_(self.output.weight.data)\n",
    "    \n",
    "    def forward(self, x):\n",
    "        x = F.relu(F.max_pool2d(F.relu(self.conv1(x)), (2, 2)))\n",
    "        x = F.relu(F.max_pool2d(F.relu(self.conv2(x)), (2, 2)))\n",
    "        \n",
    "        x = x.view(-1, 768)\n",
    "        \n",
    "        x = F.relu(self.lin1(x))\n",
    "        x = self.dropout1(x)\n",
    "        x = self.batchnorm1(x)\n",
    "        \n",
    "        x = self.output(x)\n",
    "        return x"
   ]
  },
  {
   "cell_type": "markdown",
   "metadata": {},
   "source": [
    "# Perform a grid search for hyperparameters"
   ]
  },
  {
   "cell_type": "code",
   "execution_count": null,
   "metadata": {},
   "outputs": [],
   "source": [
    "from livelossplot import PlotLosses"
   ]
  },
  {
   "cell_type": "code",
   "execution_count": null,
   "metadata": {},
   "outputs": [],
   "source": [
    "device = torch.device('cuda' if torch.cuda.is_available() else'cpu')\n",
    "print(\"Using device: \" + str(device))"
   ]
  },
  {
   "cell_type": "code",
   "execution_count": null,
   "metadata": {},
   "outputs": [],
   "source": [
    "def train_model(model, criterion, optimizer, num_epochs=10, should_plot=True, config={}):\n",
    "    liveloss = PlotLosses()\n",
    "    model = model.to(device)\n",
    "    \n",
    "    for epoch in range(num_epochs):\n",
    "        logs = {}\n",
    "        for phase in ['train', 'validation']:\n",
    "            if phase == 'train':\n",
    "                model.train()\n",
    "            else:\n",
    "                model.eval()\n",
    "\n",
    "            running_loss = 0.0\n",
    "            running_corrects = 0\n",
    "\n",
    "            for inputs, labels in dataloaders[phase]:\n",
    "                inputs = inputs.float().to(device)\n",
    "                labels = labels.to(device)\n",
    "\n",
    "                outputs = model(inputs)\n",
    "                loss = criterion(outputs, labels)\n",
    "\n",
    "                if phase == 'train':\n",
    "                    optimizer.zero_grad()\n",
    "                    loss.backward()\n",
    "                    optimizer.step()\n",
    "\n",
    "                _, preds = torch.max(outputs, 1)\n",
    "                running_loss += loss.detach() * inputs.size(0)\n",
    "                running_corrects += torch.sum(preds == labels.data)\n",
    "\n",
    "            epoch_loss = running_loss / len(dataloaders[phase].dataset)\n",
    "            epoch_acc = running_corrects.float() / len(dataloaders[phase].dataset)\n",
    "            \n",
    "            prefix = ''\n",
    "            if phase == 'validation':\n",
    "                prefix = 'val_'\n",
    "\n",
    "            logs[prefix + 'log loss'] = epoch_loss.item()\n",
    "            logs[prefix + 'accuracy'] = epoch_acc.item()\n",
    "        \n",
    "        if should_plot:\n",
    "            liveloss.update(logs)\n",
    "            liveloss.draw()\n",
    "        if config:    \n",
    "            print(\"Current config: \")\n",
    "            pprint(config)\n",
    "    return liveloss.metrics_extrema['val_log loss']['min'], \\\n",
    "        liveloss.metrics_extrema['val_accuracy']['max']"
   ]
  },
  {
   "cell_type": "code",
   "execution_count": null,
   "metadata": {},
   "outputs": [],
   "source": [
    "dataloaders = {\n",
    "    'train': val_dataloader,\n",
    "    'validation': train_dataloader,\n",
    "}\n",
    "\n",
    "model = CubeNet()\n",
    "criterion = nn.CrossEntropyLoss()\n",
    "optimizer = torch.optim.Adam(model.parameters(), lr=0.1)"
   ]
  },
  {
   "cell_type": "code",
   "execution_count": null,
   "metadata": {
    "scrolled": true
   },
   "outputs": [],
   "source": [
    "train_model(model, criterion, optimizer, num_epochs=500)"
   ]
  },
  {
   "cell_type": "markdown",
   "metadata": {},
   "source": [
    "# Experimental: Dense and Deep\n",
    "\n",
    "In this attempt, we're seeing if a dense and deep architecture with aggressive dropouts generalizes well. One may argue that 2d convolutions don't quite work for a 3d puzzle."
   ]
  },
  {
   "cell_type": "code",
   "execution_count": null,
   "metadata": {},
   "outputs": [],
   "source": [
    "num_classes=9\n",
    "\n",
    "# Attempting to add piece information to the dataset as well\n",
    "class ExperimentalCubeDataset(Dataset):\n",
    "    def __init__(self, stickers, pieces, solutions):\n",
    "        self.y = solutions.astype(np.int64)\n",
    "        self.stickers = stickers.swapaxes(1, 3).astype(np.int64)\n",
    "        self.pieces = self._build_pieces(pieces)\n",
    "        self.n = stickers.shape[0]\n",
    "    def __len__(self):\n",
    "        return self.n\n",
    "    def __getitem__(self, idx):\n",
    "        return (self.stickers[idx], self.pieces[idx], self.y[idx])\n",
    "    \n",
    "    def _build_pieces(self, pieces):\n",
    "        #TODO: vectorize this\n",
    "        num_pieces = 8\n",
    "        output = np.zeros( pieces.shape, dtype=int)\n",
    "        for i, example in enumerate(pieces):\n",
    "            new_example = np.zeros( num_pieces, dtype=int )\n",
    "            for cubit_position, encoded_color in enumerate(example):\n",
    "                # encoded color ranges from [0, 7]\n",
    "                new_example[int(encoded_color)] = cubit_position\n",
    "            output[i] = new_example\n",
    "        return output\n"
   ]
  },
  {
   "cell_type": "code",
   "execution_count": null,
   "metadata": {},
   "outputs": [],
   "source": [
    "experimental_train_dataset = ExperimentalCubeDataset(train_stickers_X, train_pieces_X, train_y)\n",
    "experimental_val_dataset = ExperimentalCubeDataset(validation_stickers_X, validation_pieces_X, validation_y)"
   ]
  },
  {
   "cell_type": "code",
   "execution_count": null,
   "metadata": {},
   "outputs": [],
   "source": [
    "class ExperimentalCubeNet(nn.Module):\n",
    "    def __init__(self, lin_layer_sizes, dropouts):\n",
    "        super().__init__()\n",
    "        \n",
    "        input_size = 24\n",
    "        first_layer = nn.Linear(\n",
    "            input_size, lin_layer_sizes[0]\n",
    "        )\n",
    "        self.linear_layers = nn.ModuleList(\n",
    "            [first_layer] +\n",
    "            [nn.Linear(lin_layer_sizes[i], lin_layer_sizes[i + 1])\n",
    "                for i in range(len(lin_layer_sizes) - 1)]\n",
    "        )\n",
    "        self.output_layer = nn.Linear(lin_layer_sizes[-1], num_classes)\n",
    "        \n",
    "        for l in self.linear_layers:\n",
    "            nn.init.kaiming_normal_(l.weight.data)\n",
    "        \n",
    "        nn.init.kaiming_normal_(self.output_layer.weight.data)\n",
    "        \n",
    "        self.first_bn_layer = nn.BatchNorm1d(input_size)\n",
    "        self.bn_layers = nn.ModuleList(\n",
    "             [nn.BatchNorm1d(size) for size in lin_layer_sizes]\n",
    "        )\n",
    "        \n",
    "        self.dropout_layers = nn.ModuleList(\n",
    "             [nn.Dropout(d) for d in dropouts]\n",
    "        )\n",
    "        \n",
    "    \n",
    "    def forward(self, stickers, pieces):\n",
    "        x = stickers.reshape(-1, 24)\n",
    "        x = self.first_bn_layer(x)\n",
    "        for linear_layer, batchnorm, dropout in zip(\n",
    "             self.linear_layers, self.bn_layers, self.dropout_layers\n",
    "        ):\n",
    "            x = F.relu(linear_layer(x))\n",
    "            x = batchnorm(x)\n",
    "            x = dropout(x)\n",
    "        x = self.output_layer(x)\n",
    "        return x"
   ]
  },
  {
   "cell_type": "code",
   "execution_count": null,
   "metadata": {},
   "outputs": [],
   "source": [
    "def train_model(model, criterion, optimizer, num_epochs=10, should_plot=True, config={}):\n",
    "    liveloss = PlotLosses()\n",
    "    model = model.to(device)\n",
    "    \n",
    "    for epoch in range(num_epochs):\n",
    "        logs = {}\n",
    "        epoch_loss = None\n",
    "        for phase in ['train', 'validation']:\n",
    "            if phase == 'train':\n",
    "                model.train()\n",
    "            else:\n",
    "                model.eval()\n",
    "\n",
    "            running_loss = 0.0\n",
    "            running_corrects = 0\n",
    "\n",
    "            for stickers, pieces, labels in dataloaders[phase]:\n",
    "                stickers = stickers.float().to(device)\n",
    "                pieces = pieces.to(device)\n",
    "                labels = labels.to(device)\n",
    "\n",
    "                outputs = model(stickers, pieces)\n",
    "                loss = criterion(outputs, labels)\n",
    "\n",
    "                if phase == 'train':\n",
    "                    optimizer.zero_grad()\n",
    "                    loss.backward()\n",
    "                    optimizer.step()\n",
    "\n",
    "                _, preds = torch.max(outputs, 1)\n",
    "                running_loss += loss.detach() * labels.size(0)\n",
    "                running_corrects += torch.sum(preds == labels.data)\n",
    "\n",
    "            \n",
    "            epoch_loss = running_loss / len(dataloaders[phase].dataset)\n",
    "            epoch_acc = running_corrects.float() / len(dataloaders[phase].dataset)\n",
    "            \n",
    "            \n",
    "            prefix = ''\n",
    "            if phase == 'validation':\n",
    "                prefix = 'val_'\n",
    "\n",
    "            # Terrible hack: don't update the graph if there's a big spike due to noise\n",
    "            if epoch_loss.item() < 2.3:\n",
    "                logs[prefix + 'log loss'] = epoch_loss.item()\n",
    "            else:\n",
    "                logs[prefix + 'log loss'] = 2.3\n",
    "            logs[prefix + 'accuracy'] = epoch_acc.item()\n",
    "        \n",
    "        if should_plot:\n",
    "            liveloss.update(logs)\n",
    "            liveloss.draw()\n",
    "        if config:    \n",
    "            print(\"Current config: \")\n",
    "            pprint(config)\n",
    "    return liveloss.metrics_extrema['val_log loss']['min'], \\\n",
    "        liveloss.metrics_extrema['val_accuracy']['max']"
   ]
  },
  {
   "cell_type": "code",
   "execution_count": null,
   "metadata": {},
   "outputs": [],
   "source": [
    "batchsize = 1000\n",
    "\n",
    "experimental_train_dataloader = DataLoader(experimental_train_dataset, batchsize, shuffle=True)\n",
    "experimental_val_dataloader = DataLoader(experimental_val_dataset, batchsize, shuffle=True)\n",
    "\n",
    "dataloaders = {\n",
    "    'train': experimental_train_dataloader,\n",
    "    'validation': experimental_val_dataloader,\n",
    "}\n",
    "\n",
    "model = ExperimentalCubeNet(\n",
    "    lin_layer_sizes=[64, 128, 256, 512, 1024, 1024, 1024, 1024, 1024, 1024],\n",
    "    dropouts=[.3, .3, .3, .3, .3, .3, .3, .4, .3, .3]\n",
    ")\n",
    "criterion = nn.CrossEntropyLoss()\n",
    "optimizer = torch.optim.Adam(model.parameters(), lr=1e-4, weight_decay=1e-3)"
   ]
  },
  {
   "cell_type": "code",
   "execution_count": null,
   "metadata": {
    "scrolled": true
   },
   "outputs": [],
   "source": [
    "train_model(model, criterion, optimizer, num_epochs=10000)"
   ]
  },
  {
   "cell_type": "code",
   "execution_count": null,
   "metadata": {},
   "outputs": [],
   "source": []
  }
 ],
 "metadata": {
  "kernelspec": {
   "display_name": "Python 3",
   "language": "python",
   "name": "python3"
  },
  "language_info": {
   "codemirror_mode": {
    "name": "ipython",
    "version": 3
   },
   "file_extension": ".py",
   "mimetype": "text/x-python",
   "name": "python",
   "nbconvert_exporter": "python",
   "pygments_lexer": "ipython3",
   "version": "3.7.2"
  }
 },
 "nbformat": 4,
 "nbformat_minor": 2
}
